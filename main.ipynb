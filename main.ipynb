{
 "cells": [
  {
   "cell_type": "code",
   "execution_count": 38,
   "id": "ed801dbe-4178-4943-a62c-5b273b9b1bc3",
   "metadata": {},
   "outputs": [
    {
     "name": "stdout",
     "output_type": "stream",
     "text": [
      "D:\\dev\\test\\open-cv-flow\\jupyter\n"
     ]
    }
   ],
   "source": [
    "import sys\n",
    "from pathlib import Path\n",
    "\n",
    "root_path = Path().resolve().parents[0]# 부모의 부모 (2단계 상위)\n",
    "root_str = str(root_path)\n",
    "\n",
    "filtered_paths = [p for p in sys.path if Path(p).resolve() == root_path]\n",
    "\n",
    "if filtered_paths:\n",
    "    print(root_path)\n",
    "else:\n",
    "    print(\"설정된 경로 없음\")\n"
   ]
  },
  {
   "cell_type": "code",
   "execution_count": null,
   "id": "147536a9-7041-4463-a0cb-d451daf6b6bb",
   "metadata": {},
   "outputs": [],
   "source": []
  },
  {
   "cell_type": "code",
   "execution_count": null,
   "id": "fe2e8654-aed2-4426-8b5d-4a4ac85337eb",
   "metadata": {},
   "outputs": [],
   "source": []
  }
 ],
 "metadata": {
  "kernelspec": {
   "display_name": "Python 3 (ipykernel)",
   "language": "python",
   "name": "python3"
  },
  "language_info": {
   "codemirror_mode": {
    "name": "ipython",
    "version": 3
   },
   "file_extension": ".py",
   "mimetype": "text/x-python",
   "name": "python",
   "nbconvert_exporter": "python",
   "pygments_lexer": "ipython3",
   "version": "3.13.3"
  }
 },
 "nbformat": 4,
 "nbformat_minor": 5
}
