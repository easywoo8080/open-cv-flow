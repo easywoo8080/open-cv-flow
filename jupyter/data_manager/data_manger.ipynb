{
 "cells": [
  {
   "cell_type": "code",
   "execution_count": 40,
   "id": "b1917da1-74f8-4301-87a0-2c87d49d90ea",
   "metadata": {},
   "outputs": [],
   "source": [
    "# 경로 설정\n",
    "import sys\n",
    "from pathlib import Path\n",
    "\n",
    "# 1단계 상위 폴더를 경로로 지정\n",
    "root_path = Path().resolve().parents[0]\n",
    "\n",
    "# 문자열로 변환\n",
    "root_str = str(root_path)\n",
    "\n",
    "# 이미 sys.path에 없으면 추가\n",
    "if root_str not in sys.path:\n",
    "    sys.path.insert(0, root_str)\n"
   ]
  },
  {
   "cell_type": "code",
   "execution_count": 60,
   "id": "823f1615-0ba0-4c70-abe4-b1f092a7e8e2",
   "metadata": {},
   "outputs": [],
   "source": [
    "# 셀 1 ─ 준비\n",
    "\n",
    "from src.data_manager.data_manager import DataManager"
   ]
  },
  {
   "cell_type": "code",
   "execution_count": 68,
   "id": "f98ecf20-a3af-4c26-9b03-0ff7ff4f38b8",
   "metadata": {},
   "outputs": [
    {
     "name": "stdout",
     "output_type": "stream",
     "text": [
      "sample_file :  D:\\dev\\test\\open-cv-flow\\tests\\data\\dummy.txt\n"
     ]
    }
   ],
   "source": [
    "\n",
    "# 내 스크립트 기준 상위 폴더 → tests/data 경로 지정\n",
    "BASE_DIR = Path().resolve().parent.parent\n",
    "DATA_DIR = BASE_DIR / \"tests\" / \"data\"\n",
    "\n",
    "# data 폴더 내 dummy.txt 경로\n",
    "sample_file = DATA_DIR / \"dummy.txt\"\n",
    "\n",
    "# 파일 생성 (data 폴더가 없으면 미리 만들어야 함)\n",
    "DATA_DIR.mkdir(parents=True, exist_ok=True)  # 폴더 없으면 생성\n",
    "sample_file.touch(exist_ok=True)             # 빈 파일 생성\n",
    "print('sample_file : ', sample_file)"
   ]
  },
  {
   "cell_type": "code",
   "execution_count": 69,
   "id": "9860cf62-e9fb-4a28-b456-ee36cd5e5b80",
   "metadata": {},
   "outputs": [
    {
     "name": "stdout",
     "output_type": "stream",
     "text": [
      "exists :  True\n"
     ]
    }
   ],
   "source": [
    "# 파일 존재 여부 확인\n",
    "exists = DataManager.file_exists(str(sample_file))\n",
    "print('exists : ', exists)"
   ]
  },
  {
   "cell_type": "code",
   "execution_count": 70,
   "id": "742105eb-faa6-4fa8-a073-5870f2d5402e",
   "metadata": {},
   "outputs": [
    {
     "ename": "NameError",
     "evalue": "name 'tmp' is not defined",
     "output_type": "error",
     "traceback": [
      "\u001b[31m---------------------------------------------------------------------------\u001b[39m",
      "\u001b[31mNameError\u001b[39m                                 Traceback (most recent call last)",
      "\u001b[36mCell\u001b[39m\u001b[36m \u001b[39m\u001b[32mIn[70]\u001b[39m\u001b[32m, line 2\u001b[39m\n\u001b[32m      1\u001b[39m \u001b[38;5;66;03m# 셀 4 ─ 정리(선택)\u001b[39;00m\n\u001b[32m----> \u001b[39m\u001b[32m2\u001b[39m \u001b[43mtmp\u001b[49m.unlink(missing_ok=\u001b[38;5;28;01mTrue\u001b[39;00m)\n",
      "\u001b[31mNameError\u001b[39m: name 'tmp' is not defined"
     ]
    }
   ],
   "source": [
    "# 셀 4 ─ 정리(선택)\n",
    "tmp.unlink(missing_ok=True)"
   ]
  },
  {
   "cell_type": "code",
   "execution_count": 37,
   "id": "9dfa4f7b-7a0a-44a2-9d66-86f0b750f28d",
   "metadata": {},
   "outputs": [
    {
     "name": "stdout",
     "output_type": "stream",
     "text": [
      "Current Working Directory: D:\\dev\\test\\open-cv-flow\\jupyter\\data_manager\n",
      "sys.path:\n",
      "   D:\\dev\\test\\open-cv-flow\\jupyter\\data_manager\n",
      "   D:\\dev\\test\\open-cv-flow\\jupyter\n",
      "   D:\\dev\\test\\open-cv-flow\n",
      "   D:\\dev\\test\\open-cv-flow\n",
      "   D:\\dev\\test\\open-cv-flow\n",
      "   C:\\Users\\easyw\\AppData\\Local\\Programs\\Python\\Python313\\python313.zip\n",
      "   C:\\Users\\easyw\\AppData\\Local\\Programs\\Python\\Python313\\DLLs\n",
      "   C:\\Users\\easyw\\AppData\\Local\\Programs\\Python\\Python313\\Lib\n",
      "   C:\\Users\\easyw\\AppData\\Local\\Programs\\Python\\Python313\n",
      "   D:\\dev\\test\\open-cv-flow\\.venv\n",
      "   \n",
      "   D:\\dev\\test\\open-cv-flow\\.venv\\Lib\\site-packages\n",
      "   D:\\dev\\test\\open-cv-flow\\.venv\\Lib\\site-packages\\win32\n",
      "   D:\\dev\\test\\open-cv-flow\\.venv\\Lib\\site-packages\\win32\\lib\n",
      "   D:\\dev\\test\\open-cv-flow\\.venv\\Lib\\site-packages\\Pythonwin\n"
     ]
    },
    {
     "ename": "TypeError",
     "evalue": "expected str, bytes or os.PathLike object, not NoneType",
     "output_type": "error",
     "traceback": [
      "\u001b[31m---------------------------------------------------------------------------\u001b[39m",
      "\u001b[31mTypeError\u001b[39m                                 Traceback (most recent call last)",
      "\u001b[36mCell\u001b[39m\u001b[36m \u001b[39m\u001b[32mIn[37]\u001b[39m\u001b[32m, line 14\u001b[39m\n\u001b[32m     12\u001b[39m \u001b[38;5;66;03m# 3. 모듈 위치(예: src 폴더 위치) 확인\u001b[39;00m\n\u001b[32m     13\u001b[39m \u001b[38;5;28;01mimport\u001b[39;00m\u001b[38;5;250m \u001b[39m\u001b[34;01msrc\u001b[39;00m\n\u001b[32m---> \u001b[39m\u001b[32m14\u001b[39m \u001b[38;5;28mprint\u001b[39m(\u001b[33m\"\u001b[39m\u001b[33msrc 모듈 위치:\u001b[39m\u001b[33m\"\u001b[39m, \u001b[43mos\u001b[49m\u001b[43m.\u001b[49m\u001b[43mpath\u001b[49m\u001b[43m.\u001b[49m\u001b[43mdirname\u001b[49m\u001b[43m(\u001b[49m\u001b[43msrc\u001b[49m\u001b[43m.\u001b[49m\u001b[34;43m__file__\u001b[39;49m\u001b[43m)\u001b[49m)\n",
      "\u001b[36mFile \u001b[39m\u001b[32m<frozen ntpath>:263\u001b[39m, in \u001b[36mdirname\u001b[39m\u001b[34m(p)\u001b[39m\n",
      "\u001b[36mFile \u001b[39m\u001b[32m<frozen ntpath>:227\u001b[39m, in \u001b[36msplit\u001b[39m\u001b[34m(p)\u001b[39m\n",
      "\u001b[31mTypeError\u001b[39m: expected str, bytes or os.PathLike object, not NoneType"
     ]
    }
   ],
   "source": [
    "import sys\n",
    "import os\n",
    "\n",
    "# 1. 현재 작업 디렉터리 (CWD)\n",
    "print(\"Current Working Directory:\", os.getcwd())\n",
    "\n",
    "# 2. 파이썬 모듈 탐색 경로 목록\n",
    "print(\"sys.path:\")\n",
    "for p in sys.path:\n",
    "    print(\"  \", p)\n",
    "\n",
    "# 3. 모듈 위치(예: src 폴더 위치) 확인\n",
    "import src\n",
    "print(\"src 모듈 위치:\", os.path.dirname(src.__file__))\n"
   ]
  },
  {
   "cell_type": "code",
   "execution_count": null,
   "id": "6aeadbd6-2978-49a4-b1bc-658f7df225dc",
   "metadata": {},
   "outputs": [],
   "source": []
  },
  {
   "cell_type": "code",
   "execution_count": null,
   "id": "e72b9269-fae0-4866-871e-386ec0a8d793",
   "metadata": {},
   "outputs": [],
   "source": []
  }
 ],
 "metadata": {
  "kernelspec": {
   "display_name": "Python 3 (ipykernel)",
   "language": "python",
   "name": "python3"
  },
  "language_info": {
   "codemirror_mode": {
    "name": "ipython",
    "version": 3
   },
   "file_extension": ".py",
   "mimetype": "text/x-python",
   "name": "python",
   "nbconvert_exporter": "python",
   "pygments_lexer": "ipython3",
   "version": "3.13.3"
  }
 },
 "nbformat": 4,
 "nbformat_minor": 5
}
